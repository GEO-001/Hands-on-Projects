{
 "cells": [
  {
   "cell_type": "markdown",
   "id": "0b56c495-fedf-4a60-b5c5-3e01c6afdb1c",
   "metadata": {},
   "source": [
    "# 3D forest height mapping"
   ]
  },
  {
   "cell_type": "code",
   "execution_count": 2,
   "id": "12c0f6b5-e9be-4dde-91f2-925019eb12df",
   "metadata": {},
   "outputs": [],
   "source": [
    "libs <- c(\n",
    "  \"tidyverse\", \"sf\", \"geodata\",\"terra\", \"classInt\", \"rayshader\")"
   ]
  },
  {
   "cell_type": "code",
   "execution_count": null,
   "id": "436040fc-4059-4f37-aa24-772331e9d529",
   "metadata": {},
   "outputs": [],
   "source": [
    "installed_libs <- libs %in% rownames(\n",
    "  installed.packages()\n",
    ")"
   ]
  },
  {
   "cell_type": "code",
   "execution_count": null,
   "id": "dd56c5ac-7000-4ed5-a17a-47794f2e295c",
   "metadata": {},
   "outputs": [],
   "source": [
    "if(any(installed_libs == F)){\n",
    "  install.packages(\n",
    "    libs[!installed_libs])\n",
    "}\n",
    "invisible(lapply(\n",
    "  libs,\n",
    "  library,\n",
    "  character.only = T\n",
    "))"
   ]
  },
  {
   "cell_type": "code",
   "execution_count": null,
   "id": "c0f1162e-9bf4-4373-bf51-f01b4acc6e4c",
   "metadata": {},
   "outputs": [],
   "source": []
  }
 ],
 "metadata": {
  "kernelspec": {
   "display_name": "R",
   "language": "R",
   "name": "ir"
  },
  "language_info": {
   "codemirror_mode": "r",
   "file_extension": ".r",
   "mimetype": "text/x-r-source",
   "name": "R",
   "pygments_lexer": "r",
   "version": "4.4.1"
  }
 },
 "nbformat": 4,
 "nbformat_minor": 5
}
