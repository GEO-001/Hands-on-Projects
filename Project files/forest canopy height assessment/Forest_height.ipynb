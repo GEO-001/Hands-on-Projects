{
 "cells": [
  {
   "cell_type": "markdown",
   "id": "0b56c495-fedf-4a60-b5c5-3e01c6afdb1c",
   "metadata": {},
   "source": [
    "# A 3D mapping of Felllagi Forest Height"
   ]
  },
  {
   "cell_type": "code",
   "execution_count": null,
   "id": "670ea1a2-d295-45a3-a97d-9a3fc40f8e1a",
   "metadata": {},
   "outputs": [],
   "source": [
    "In the next lines of codes, "
   ]
  },
  {
   "cell_type": "markdown",
   "id": "051fb888-0d17-485b-91d6-dd9497ef1990",
   "metadata": {},
   "source": [
    "#### Load the required packages"
   ]
  },
  {
   "cell_type": "code",
   "execution_count": 2,
   "id": "12c0f6b5-e9be-4dde-91f2-925019eb12df",
   "metadata": {},
   "outputs": [],
   "source": [
    "libs <- c(\n",
    "  \"tidyverse\", \"sf\", \"geodata\",\"terra\", \"classInt\", \"rayshader\")"
   ]
  },
  {
   "cell_type": "code",
   "execution_count": 3,
   "id": "436040fc-4059-4f37-aa24-772331e9d529",
   "metadata": {},
   "outputs": [],
   "source": [
    "installed_libs <- libs %in% rownames(\n",
    "  installed.packages()\n",
    ")"
   ]
  },
  {
   "cell_type": "code",
   "execution_count": 4,
   "id": "dd56c5ac-7000-4ed5-a17a-47794f2e295c",
   "metadata": {},
   "outputs": [
    {
     "name": "stderr",
     "output_type": "stream",
     "text": [
      "── \u001b[1mAttaching core tidyverse packages\u001b[22m ──────────────────────────────────────────────────────────────── tidyverse 2.0.0 ──\n",
      "\u001b[32m✔\u001b[39m \u001b[34mdplyr    \u001b[39m 1.1.4     \u001b[32m✔\u001b[39m \u001b[34mreadr    \u001b[39m 2.1.5\n",
      "\u001b[32m✔\u001b[39m \u001b[34mforcats  \u001b[39m 1.0.0     \u001b[32m✔\u001b[39m \u001b[34mstringr  \u001b[39m 1.5.1\n",
      "\u001b[32m✔\u001b[39m \u001b[34mggplot2  \u001b[39m 3.5.1     \u001b[32m✔\u001b[39m \u001b[34mtibble   \u001b[39m 3.2.1\n",
      "\u001b[32m✔\u001b[39m \u001b[34mlubridate\u001b[39m 1.9.3     \u001b[32m✔\u001b[39m \u001b[34mtidyr    \u001b[39m 1.3.1\n",
      "\u001b[32m✔\u001b[39m \u001b[34mpurrr    \u001b[39m 1.0.2     \n",
      "── \u001b[1mConflicts\u001b[22m ────────────────────────────────────────────────────────────────────────────────── tidyverse_conflicts() ──\n",
      "\u001b[31m✖\u001b[39m \u001b[34mdplyr\u001b[39m::\u001b[32mfilter()\u001b[39m masks \u001b[34mstats\u001b[39m::filter()\n",
      "\u001b[31m✖\u001b[39m \u001b[34mdplyr\u001b[39m::\u001b[32mlag()\u001b[39m    masks \u001b[34mstats\u001b[39m::lag()\n",
      "\u001b[36mℹ\u001b[39m Use the conflicted package (\u001b[3m\u001b[34m<http://conflicted.r-lib.org/>\u001b[39m\u001b[23m) to force all conflicts to become errors\n",
      "Linking to GEOS 3.12.1, GDAL 3.8.4, PROJ 9.3.1; sf_use_s2() is TRUE\n",
      "\n",
      "Loading required package: terra\n",
      "\n",
      "terra 1.7.78\n",
      "\n",
      "\n",
      "Attaching package: 'terra'\n",
      "\n",
      "\n",
      "The following object is masked from 'package:tidyr':\n",
      "\n",
      "    extract\n",
      "\n",
      "\n"
     ]
    }
   ],
   "source": [
    "if(any(installed_libs == F)){\n",
    "  install.packages(\n",
    "    libs[!installed_libs])\n",
    "}\n",
    "invisible(lapply(\n",
    "  libs,\n",
    "  library,\n",
    "  character.only = T\n",
    "))"
   ]
  },
  {
   "cell_type": "markdown",
   "id": "466ca472-fdbb-41ae-83c9-a097caf12a40",
   "metadata": {},
   "source": [
    "#### Set the working directory"
   ]
  },
  {
   "cell_type": "code",
   "execution_count": 10,
   "id": "cbf0a329-db4c-41f9-9812-10bc69f80c5d",
   "metadata": {},
   "outputs": [],
   "source": [
    "setwd('C:/Users/Ezekiel Godwin/Downloads/Projects/Tree_Height')"
   ]
  },
  {
   "cell_type": "code",
   "execution_count": 11,
   "id": "f01ed02d-54bd-4ebf-a651-75a22e206f97",
   "metadata": {},
   "outputs": [
    {
     "data": {
      "text/html": [
       "'C:/Users/Ezekiel Godwin/Downloads/Projects/Tree_Height'"
      ],
      "text/latex": [
       "'C:/Users/Ezekiel Godwin/Downloads/Projects/Tree\\_Height'"
      ],
      "text/markdown": [
       "'C:/Users/Ezekiel Godwin/Downloads/Projects/Tree_Height'"
      ],
      "text/plain": [
       "[1] \"C:/Users/Ezekiel Godwin/Downloads/Projects/Tree_Height\""
      ]
     },
     "metadata": {},
     "output_type": "display_data"
    }
   ],
   "source": [
    "getwd()"
   ]
  },
  {
   "cell_type": "markdown",
   "id": "1d08f297-b773-45ca-8062-b0e46fe6fc97",
   "metadata": {},
   "source": [
    "#### Load the files\n",
    "- Forest height raster file: Downloaded ETH Global canopy map\n",
    "- Area of interest: Administrative boundary of Fellagi Forest, Kainji, Niger State, Nigeria (_Prepared in QGIS_)"
   ]
  },
  {
   "cell_type": "code",
   "execution_count": 12,
   "id": "88e7d93c-70f8-47e7-8369-ea223c1f3cf9",
   "metadata": {},
   "outputs": [],
   "source": [
    "raster_file <- list.files(path = getwd(), pattern = \"ETH\", full.names = T)"
   ]
  },
  {
   "cell_type": "code",
   "execution_count": 17,
   "id": "72a6a354-bb6b-4c40-8323-12d74300885f",
   "metadata": {},
   "outputs": [
    {
     "data": {
      "text/html": [
       "'C:/Users/Ezekiel Godwin/Downloads/Projects/Tree_Height/ETH_GlobalCanopyHeight_10m_2020_N09E003_Map.tif'"
      ],
      "text/latex": [
       "'C:/Users/Ezekiel Godwin/Downloads/Projects/Tree\\_Height/ETH\\_GlobalCanopyHeight\\_10m\\_2020\\_N09E003\\_Map.tif'"
      ],
      "text/markdown": [
       "'C:/Users/Ezekiel Godwin/Downloads/Projects/Tree_Height/ETH_GlobalCanopyHeight_10m_2020_N09E003_Map.tif'"
      ],
      "text/plain": [
       "[1] \"C:/Users/Ezekiel Godwin/Downloads/Projects/Tree_Height/ETH_GlobalCanopyHeight_10m_2020_N09E003_Map.tif\""
      ]
     },
     "metadata": {},
     "output_type": "display_data"
    }
   ],
   "source": [
    "raster_file"
   ]
  },
  {
   "cell_type": "code",
   "execution_count": 13,
   "id": "6634b0da-6376-463e-907d-32ddc3839854",
   "metadata": {},
   "outputs": [],
   "source": [
    "aoi_boundary <- \"C:/Users/Ezekiel Godwin/Dropbox/PC/Downloads/Projects/Tree_Height/nig_for.shp\""
   ]
  },
  {
   "cell_type": "code",
   "execution_count": 14,
   "id": "31e890cd-4bff-49fa-ba20-b7ec6229cc0d",
   "metadata": {},
   "outputs": [
    {
     "name": "stdout",
     "output_type": "stream",
     "text": [
      "options:        ENCODING=UTF-8 \n",
      "Reading layer `nig_for' from data source \n",
      "  `C:\\Users\\Ezekiel Godwin\\Dropbox\\PC\\Downloads\\Projects\\Tree_Height\\nig_for.shp' \n",
      "  using driver `ESRI Shapefile'\n",
      "Simple feature collection with 1 feature and 1 field\n",
      "Geometry type: POLYGON\n",
      "Dimension:     XY\n",
      "Bounding box:  xmin: 4.703402 ymin: 9.663687 xmax: 5.32361 ymax: 9.996321\n",
      "Geodetic CRS:  WGS 84\n"
     ]
    }
   ],
   "source": [
    "forest <- st_read(aoi_boundary, options = \"ENCODING=UTF-8\")"
   ]
  },
  {
   "cell_type": "code",
   "execution_count": 15,
   "id": "3129878a-54fc-4353-974e-d790dd2b87b7",
   "metadata": {},
   "outputs": [
    {
     "data": {
      "image/png": "[encoded data removed]",
      "text/plain": [
       "plot without title"
      ]
     },
     "metadata": {
      "image/png": {
       "height": 420,
       "width": 420
      }
     },
     "output_type": "display_data"
    }
   ],
   "source": [
    "plot(st_geometry(forest))"
   ]
  },
  {
   "cell_type": "markdown",
   "id": "2183d1e2-535c-4259-b6b4-f56c90ad0f7b",
   "metadata": {},
   "source": [
    "#### Convert the Forest Height raster into a SpatRaster and the aoi boundary(.shp) into a SpatVector <br>\n",
    " N.B: SpatRaster & SpatVector are the primary object types in the _terra_ package"
   ]
  },
  {
   "cell_type": "code",
   "execution_count": 18,
   "id": "083c5b0a-e3d0-4354-b7a1-586703895fdc",
   "metadata": {},
   "outputs": [],
   "source": [
    "fh_rast <- rast(raster_file)"
   ]
  },
  {
   "cell_type": "code",
   "execution_count": 19,
   "id": "afa227df-689f-4611-a74a-5e5134df3dd5",
   "metadata": {},
   "outputs": [],
   "source": [
    "forest_bd <- vect(shapefile_path)"
   ]
  },
  {
   "cell_type": "markdown",
   "id": "e426fec5-146e-4d71-9b10-74a24a136333",
   "metadata": {},
   "source": [
    "#### Aggregate the raster and clip it to the aoi boundary"
   ]
  },
  {
   "cell_type": "code",
   "execution_count": 32,
   "id": "b8c2cbde-c35f-4301-bec1-96742e68757f",
   "metadata": {
    "scrolled": true
   },
   "outputs": [
    {
     "name": "stdout",
     "output_type": "stream",
     "text": [
      "                                          \r"
     ]
    }
   ],
   "source": [
    "fh_agg <- aggregate(fh_rast, fact = 10, fun = mean)"
   ]
  },
  {
   "cell_type": "code",
   "execution_count": 21,
   "id": "9ccd5348-286d-46d5-8de1-f5301f60808e",
   "metadata": {},
   "outputs": [],
   "source": [
    "fh_forest <- crop(fh_agg, forest_bd, snap = \"in\")"
   ]
  },
  {
   "cell_type": "code",
   "execution_count": 24,
   "id": "652f66a2-73d2-4dcc-844a-5cbe62b31cd4",
   "metadata": {},
   "outputs": [],
   "source": [
    "forest_masked <- mask(fh_forest, forest_bd)"
   ]
  },
  {
   "cell_type": "code",
   "execution_count": 25,
   "id": "d35f2834-6694-4a16-97e4-f613747b6c16",
   "metadata": {},
   "outputs": [
    {
     "data": {
      "image/png": "[encoded data removed]",
      "text/plain": [
       "plot without title"
      ]
     },
     "metadata": {
      "image/png": {
       "height": 420,
       "width": 420
      }
     },
     "output_type": "display_data"
    }
   ],
   "source": [
    "plot(forest_masked)"
   ]
  },
  {
   "cell_type": "markdown",
   "id": "5532de42-2e66-468b-9d87-6f3815172537",
   "metadata": {},
   "source": [
    "#### Create a dataframe from the clipped raster"
   ]
  },
  {
   "cell_type": "code",
   "execution_count": 26,
   "id": "56b3b5d0-ce8b-4a67-8b7d-1500f4ad800c",
   "metadata": {},
   "outputs": [],
   "source": [
    "fh_df <- as.data.frame(forest_masked, xy = TRUE)"
   ]
  },
  {
   "cell_type": "code",
   "execution_count": 27,
   "id": "157b5ee4-c792-4760-87a7-467728de54a1",
   "metadata": {},
   "outputs": [
    {
     "data": {
      "text/html": [
       "<table class=\"dataframe\">\n",
       "<caption>A data.frame: 6 × 3</caption>\n",
       "<thead>\n",
       "\t<tr><th></th><th scope=col>x</th><th scope=col>y</th><th scope=col>ETH_GlobalCanopyHeight_10m_2020_N09E003_Map</th></tr>\n",
       "\t<tr><th></th><th scope=col>&lt;dbl&gt;</th><th scope=col>&lt;dbl&gt;</th><th scope=col>&lt;dbl&gt;</th></tr>\n",
       "</thead>\n",
       "<tbody>\n",
       "\t<tr><th scope=row>583</th><td>5.189583</td><td>9.995417</td><td>2.70</td></tr>\n",
       "\t<tr><th scope=row>584</th><td>5.190417</td><td>9.995417</td><td>1.29</td></tr>\n",
       "\t<tr><th scope=row>1296</th><td>5.164583</td><td>9.994583</td><td>0.14</td></tr>\n",
       "\t<tr><th scope=row>1297</th><td>5.165417</td><td>9.994583</td><td>0.00</td></tr>\n",
       "\t<tr><th scope=row>1298</th><td>5.166250</td><td>9.994583</td><td>0.00</td></tr>\n",
       "\t<tr><th scope=row>1299</th><td>5.167083</td><td>9.994583</td><td>0.00</td></tr>\n",
       "</tbody>\n",
       "</table>\n"
      ],
      "text/latex": [
       "A data.frame: 6 × 3\n",
       "\\begin{tabular}{r|lll}\n",
       "  & x & y & ETH\\_GlobalCanopyHeight\\_10m\\_2020\\_N09E003\\_Map\\\\\n",
       "  & <dbl> & <dbl> & <dbl>\\\\\n",
       "\\hline\n",
       "\t583 & 5.189583 & 9.995417 & 2.70\\\\\n",
       "\t584 & 5.190417 & 9.995417 & 1.29\\\\\n",
       "\t1296 & 5.164583 & 9.994583 & 0.14\\\\\n",
       "\t1297 & 5.165417 & 9.994583 & 0.00\\\\\n",
       "\t1298 & 5.166250 & 9.994583 & 0.00\\\\\n",
       "\t1299 & 5.167083 & 9.994583 & 0.00\\\\\n",
       "\\end{tabular}\n"
      ],
      "text/markdown": [
       "\n",
       "A data.frame: 6 × 3\n",
       "\n",
       "| <!--/--> | x &lt;dbl&gt; | y &lt;dbl&gt; | ETH_GlobalCanopyHeight_10m_2020_N09E003_Map &lt;dbl&gt; |\n",
       "|---|---|---|---|\n",
       "| 583 | 5.189583 | 9.995417 | 2.70 |\n",
       "| 584 | 5.190417 | 9.995417 | 1.29 |\n",
       "| 1296 | 5.164583 | 9.994583 | 0.14 |\n",
       "| 1297 | 5.165417 | 9.994583 | 0.00 |\n",
       "| 1298 | 5.166250 | 9.994583 | 0.00 |\n",
       "| 1299 | 5.167083 | 9.994583 | 0.00 |\n",
       "\n"
      ],
      "text/plain": [
       "     x        y        ETH_GlobalCanopyHeight_10m_2020_N09E003_Map\n",
       "583  5.189583 9.995417 2.70                                       \n",
       "584  5.190417 9.995417 1.29                                       \n",
       "1296 5.164583 9.994583 0.14                                       \n",
       "1297 5.165417 9.994583 0.00                                       \n",
       "1298 5.166250 9.994583 0.00                                       \n",
       "1299 5.167083 9.994583 0.00                                       "
      ]
     },
     "metadata": {},
     "output_type": "display_data"
    }
   ],
   "source": [
    "head(fh_df)"
   ]
  },
  {
   "cell_type": "markdown",
   "id": "8ce470fe-8155-4901-a3b9-df0c73b0d7c3",
   "metadata": {},
   "source": [
    "#### Specify the height column and define the height class intervals"
   ]
  },
  {
   "cell_type": "code",
   "execution_count": 28,
   "id": "db764bdb-5e82-478d-b084-75a4ca48af3d",
   "metadata": {},
   "outputs": [],
   "source": [
    "colnames(fh_df) <- c(\"x\", \"y\", \"height\")"
   ]
  },
  {
   "cell_type": "code",
   "execution_count": 29,
   "id": "5e63c3b9-77c6-42b7-8294-1fed712cf7d0",
   "metadata": {},
   "outputs": [],
   "source": [
    "breaks <- classInt::classIntervals(\n",
    "  fh_df$height,\n",
    "  n = 5,\n",
    "  style = \"fisher\"\n",
    ")$brks"
   ]
  },
  {
   "cell_type": "markdown",
   "id": "64e09206-6783-47b5-a9f3-1bf064699a8b",
   "metadata": {},
   "source": [
    "#### Create the visualization parameters"
   ]
  },
  {
   "cell_type": "code",
   "execution_count": 31,
   "id": "471894da-f07a-48b4-803b-838f8a254763",
   "metadata": {},
   "outputs": [],
   "source": [
    "cols <-\n",
    "  c(\n",
    "    \"white\", \"#ffd3af\", \"#fbe06e\",\n",
    "    \"#6daa55\", \"#205544\"\n",
    "  )"
   ]
  },
  {
   "cell_type": "code",
   "execution_count": null,
   "id": "602d2a41-4352-4644-b8af-35ea27a05500",
   "metadata": {},
   "outputs": [],
   "source": [
    "texture <- colorRampPalette(\n",
    "  cols,\n",
    "  bias = 2\n",
    ")(6)"
   ]
  },
  {
   "cell_type": "code",
   "execution_count": null,
   "id": "f95d18e2-fb34-48cc-8bad-40b58cdf96b1",
   "metadata": {},
   "outputs": [],
   "source": [
    "p <- ggplot(\n",
    "  fh_df\n",
    ") +\n",
    " geom_tile(\n",
    "    aes(\n",
    "      x = x,\n",
    "      y = y,\n",
    "      fill = height\n",
    "      )\n",
    "  )+\n",
    "  scale_fill_gradientn(\n",
    "    name = \"height (m)\",\n",
    "    colors = texture,\n",
    "    breaks = round(breaks, 0)\n",
    ")+\n",
    "coord_sf(crs = 4326)+\n",
    "  guides(\n",
    "    fill = guide_legend(\n",
    "      direction = \"vertical\",\n",
    "      keyheight = unit(5, \"mm\"),\n",
    "      keywidth = unit(5, \"mm\"),\n",
    "      title.position = \"top\",\n",
    "      label.position = \"right\",\n",
    "      title.hjust = 0.5,\n",
    "      label.hjust = 0.5,\n",
    "      ncol = 1,\n",
    "      byrow = FALSE\n",
    "    )\n",
    ") +\n",
    "theme_minimal() +\n",
    "theme(\n",
    "  axis.line = element_blank(),\n",
    "  axis.title.x = element_blank(), \n",
    "  axis.text.x = element_blank(),\n",
    "  axis.text.y = element_blank(),\n",
    "  legend.position =\"right\",\n",
    "  legend.title = element_text(size = 11, color = \"grey10\"),\n",
    "  legend.text = element_text(size = 11, color = \"grey10\"),\n",
    "  panel.grid.major = element_line(color = \"white\"),\n",
    "  plot.background = element_rect(fill = \"white\", color = NA),\n",
    "  panel.border = element_rect(fill = NA, color = \"white\"),\n",
    "  plot.margin = unit(c(t = 0, r = 0, b = 0, l = 0), \"lines\")\n",
    ")"
   ]
  },
  {
   "cell_type": "code",
   "execution_count": null,
   "id": "a49555b5-691a-4c6e-bb79-ad05ee49c37d",
   "metadata": {},
   "outputs": [],
   "source": [
    "h <- nrow(fh_df)\n",
    "w <- ncol(fh_df)"
   ]
  },
  {
   "cell_type": "code",
   "execution_count": null,
   "id": "799eecb4-2f29-4bc4-b511-ff308d8d5681",
   "metadata": {},
   "outputs": [],
   "source": [
    "max_dimension <- 50  # Maximum dimension in inches\n",
    "\n",
    "# Calculate the aspect ratio\n",
    "aspect_ratio <- w / h\n",
    "\n",
    "# Adjust width and height to fit within the maximum dimension\n",
    "if (aspect_ratio > 1) {\n",
    "  width_in_inches <- max_dimension\n",
    "  height_in_inches <- max_dimension / aspect_ratio\n",
    "} else {\n",
    "  height_in_inches <- max_dimension\n",
    "  width_in_inches <- max_dimension * aspect_ratio\n",
    "}"
   ]
  },
  {
   "cell_type": "code",
   "execution_count": null,
   "id": "43cdcba4-57ef-4836-a2b0-ab702a6d5404",
   "metadata": {},
   "outputs": [],
   "source": [
    "options(ragg.max_dim = 10000)  # Set a higher max dimension (e.g., 100,000 pixels)\n",
    "\n",
    "rayshader::plot_gg(\n",
    "  ggobj = p,\n",
    "  width = 10,\n",
    "  height = 10,\n",
    "  scale = 150,\n",
    "  solid = FALSE,\n",
    "  soliddepth = 0,\n",
    "  shadow = TRUE, \n",
    "  shadow_intensity =0.99,\n",
    "  offset_edges = FALSE,\n",
    "  sunangle = 315,\n",
    "  #window.size = c(800, 800),\n",
    "  zoom = 0.4,\n",
    "  phi = 30,\n",
    "  theta = -30,\n",
    "  multicore = TRUE\n",
    ")"
   ]
  },
  {
   "cell_type": "markdown",
   "id": "903db694-6665-492d-a64a-cd2341bae3e0",
   "metadata": {},
   "source": [
    "#### Render the image  for better visualization"
   ]
  },
  {
   "cell_type": "code",
   "execution_count": null,
   "id": "612f0776-c57c-4564-8086-cc0b313c407a",
   "metadata": {},
   "outputs": [],
   "source": [
    "rayshader::render_camera(\n",
    "  phi = 50,\n",
    "  zoom = .7,\n",
    "  theta = 45\n",
    ")"
   ]
  },
  {
   "cell_type": "code",
   "execution_count": null,
   "id": "b5311895-4d34-4659-837a-7bef6b918041",
   "metadata": {},
   "outputs": [],
   "source": [
    "ggplot2::ggsave(\n",
    "  filename = \"niger-forest-height-2020.png\",\n",
    "  plot = last_plot(),  # Assuming the plot is the last one created\n",
    "  width = 10,  # Adjust width to desired size (in pixels)\n",
    "  height = 10,  # Adjust height to desired size (in pixels)\n",
    "  dpi = 300,  # Set the DPI (dots per inch) for resolution\n",
    "  limitsize = FALSE  # Override size limit\n",
    ")"
   ]
  },
  {
   "cell_type": "code",
   "execution_count": null,
   "id": "ef2ee214-3e78-43a0-904b-d3879561a282",
   "metadata": {},
   "outputs": [],
   "source": [
    "rayshader::render_highquality(\n",
    "  filename = \"niger-forest-height-2020.png\",\n",
    "  preview = TRUE,\n",
    "  interactive = FALSE,\n",
    "  light = TRUE,\n",
    "  lightdirection = c(\n",
    "    315, 310, 315, 310\n",
    "  ),\n",
    "  lightintensity = c(\n",
    "    1000, 1500, 150, 100\n",
    "  ),\n",
    "  lightaltitude = c(\n",
    "    15, 15, 80, 80\n",
    "  ),\n",
    "  ground_material =\n",
    "  rayrender::microfacet(\n",
    "    roughness = 0.6\n",
    "  ),\n",
    "  width = 10,\n",
    "  height = 10,\n",
    ")"
   ]
  },
  {
   "cell_type": "code",
   "execution_count": null,
   "id": "8dbe197b-5c72-487c-bfb9-5eee5c410a8a",
   "metadata": {},
   "outputs": [],
   "source": []
  },
  {
   "cell_type": "code",
   "execution_count": null,
   "id": "c0972e4b-f2ce-4496-9a60-d207fd7b3ac9",
   "metadata": {},
   "outputs": [],
   "source": []
  },
  {
   "cell_type": "markdown",
   "id": "199e54a1-4829-413a-840a-a3ce983296f2",
   "metadata": {},
   "source": [
    "_Reference_: https://www.youtube.com"
   ]
  },
  {
   "cell_type": "code",
   "execution_count": null,
   "id": "22f2a683-b16c-49bd-9254-6552611526ce",
   "metadata": {},
   "outputs": [],
   "source": []
  }
 ],
 "metadata": {
  "kernelspec": {
   "display_name": "R",
   "language": "R",
   "name": "ir"
  },
  "language_info": {
   "codemirror_mode": "r",
   "file_extension": ".r",
   "mimetype": "text/x-r-source",
   "name": "R",
   "pygments_lexer": "r",
   "version": "4.4.1"
  }
 },
 "nbformat": 4,
 "nbformat_minor": 5
}
